{
 "cells": [
  {
   "cell_type": "markdown",
   "metadata": {},
   "source": [
    "# XML example and exercise\n",
    "****\n",
    "+ study examples of accessing nodes in XML tree structure  \n",
    "+ work on exercise to be completed and submitted\n",
    "****\n",
    "+ reference: https://docs.python.org/2.7/library/xml.etree.elementtree.html\n",
    "+ data source: http://www.dbis.informatik.uni-goettingen.de/Mondial\n",
    "****"
   ]
  },
  {
   "cell_type": "code",
   "execution_count": 1,
   "metadata": {
    "collapsed": true
   },
   "outputs": [],
   "source": [
    "from xml.etree import ElementTree as ET"
   ]
  },
  {
   "cell_type": "markdown",
   "metadata": {},
   "source": [
    "## XML example\n",
    "\n",
    "+ for details about tree traversal and iterators, see https://docs.python.org/2.7/library/xml.etree.elementtree.html"
   ]
  },
  {
   "cell_type": "code",
   "execution_count": 2,
   "metadata": {
    "collapsed": true
   },
   "outputs": [],
   "source": [
    "document_tree = ET.parse( './data/mondial_database_less.xml' )"
   ]
  },
  {
   "cell_type": "code",
   "execution_count": 3,
   "metadata": {
    "collapsed": false
   },
   "outputs": [
    {
     "name": "stdout",
     "output_type": "stream",
     "text": [
      "Albania\n",
      "Greece\n",
      "Macedonia\n",
      "Serbia\n",
      "Montenegro\n",
      "Kosovo\n",
      "Andorra\n"
     ]
    }
   ],
   "source": [
    "# print names of all countries\n",
    "for child in document_tree.getroot():\n",
    "    print child.find('name').text"
   ]
  },
  {
   "cell_type": "code",
   "execution_count": 4,
   "metadata": {
    "collapsed": false
   },
   "outputs": [
    {
     "name": "stdout",
     "output_type": "stream",
     "text": [
      "* Albania: Tirana, Shkodër, Durrës, Vlorë, Elbasan, Korçë\n",
      "* Greece: Komotini, Kavala, Athina, Peiraias, Peristeri, Acharnes, Patra, Kozani, Kerkyra, Ioannina, Thessaloniki, Iraklio, Chania, Ermoupoli, Rhodes, Tripoli, Lamia, Chalkida, Larissa, Volos, Mytilini, Karyes\n",
      "* Macedonia: Skopje, Kumanovo\n",
      "* Serbia: Beograd, Novi Sad, Niš\n",
      "* Montenegro: Podgorica\n",
      "* Kosovo: Prishtine\n",
      "* Andorra: Andorra la Vella\n"
     ]
    }
   ],
   "source": [
    "# print names of all countries and their cities\n",
    "for element in document_tree.iterfind('country'):\n",
    "    print '* ' + element.find('name').text + ':',\n",
    "    capitals_string = ''\n",
    "    for subelement in element.getiterator('city'):\n",
    "        capitals_string += subelement.find('name').text + ', '\n",
    "    print capitals_string[:-2]"
   ]
  },
  {
   "cell_type": "markdown",
   "metadata": {},
   "source": [
    "****\n",
    "## XML exercise\n",
    "\n",
    "Using data in 'data/mondial_database.xml', the examples above, and refering to https://docs.python.org/2.7/library/xml.etree.elementtree.html, find\n",
    "\n",
    "1. 10 countries with the lowest infant mortality rates\n",
    "2. 10 cities with the largest population\n",
    "3. 10 ethnic groups with the largest overall populations (sum of best/latest estimates over all countries)\n",
    "4. name and country of a) longest river, b) largest lake and c) airport at highest elevation"
   ]
  },
  {
   "cell_type": "code",
   "execution_count": 5,
   "metadata": {
    "collapsed": true
   },
   "outputs": [],
   "source": [
    "document = ET.parse( './data/mondial_database.xml' )"
   ]
  },
  {
   "cell_type": "markdown",
   "metadata": {},
   "source": [
    "## Exercise 1.  10 countries with the lowest infant mortality rates"
   ]
  },
  {
   "cell_type": "code",
   "execution_count": 10,
   "metadata": {
    "collapsed": false
   },
   "outputs": [],
   "source": [
    "import pandas as pd\n"
   ]
  },
  {
   "cell_type": "code",
   "execution_count": 13,
   "metadata": {
    "collapsed": false
   },
   "outputs": [
    {
     "data": {
      "text/html": [
       "<div>\n",
       "<table border=\"1\" class=\"dataframe\">\n",
       "  <thead>\n",
       "    <tr style=\"text-align: right;\">\n",
       "      <th></th>\n",
       "      <th>country</th>\n",
       "      <th>infant_mortality</th>\n",
       "    </tr>\n",
       "  </thead>\n",
       "  <tbody>\n",
       "    <tr>\n",
       "      <th>0</th>\n",
       "      <td>Monaco</td>\n",
       "      <td>1.81</td>\n",
       "    </tr>\n",
       "    <tr>\n",
       "      <th>0</th>\n",
       "      <td>Japan</td>\n",
       "      <td>2.13</td>\n",
       "    </tr>\n",
       "    <tr>\n",
       "      <th>0</th>\n",
       "      <td>Bermuda</td>\n",
       "      <td>2.48</td>\n",
       "    </tr>\n",
       "    <tr>\n",
       "      <th>0</th>\n",
       "      <td>Norway</td>\n",
       "      <td>2.48</td>\n",
       "    </tr>\n",
       "    <tr>\n",
       "      <th>0</th>\n",
       "      <td>Singapore</td>\n",
       "      <td>2.53</td>\n",
       "    </tr>\n",
       "    <tr>\n",
       "      <th>0</th>\n",
       "      <td>Sweden</td>\n",
       "      <td>2.60</td>\n",
       "    </tr>\n",
       "    <tr>\n",
       "      <th>0</th>\n",
       "      <td>Czech Republic</td>\n",
       "      <td>2.63</td>\n",
       "    </tr>\n",
       "    <tr>\n",
       "      <th>0</th>\n",
       "      <td>Hong Kong</td>\n",
       "      <td>2.73</td>\n",
       "    </tr>\n",
       "    <tr>\n",
       "      <th>0</th>\n",
       "      <td>Macao</td>\n",
       "      <td>3.13</td>\n",
       "    </tr>\n",
       "    <tr>\n",
       "      <th>0</th>\n",
       "      <td>Iceland</td>\n",
       "      <td>3.15</td>\n",
       "    </tr>\n",
       "  </tbody>\n",
       "</table>\n",
       "</div>"
      ],
      "text/plain": [
       "          country  infant_mortality\n",
       "0          Monaco              1.81\n",
       "0           Japan              2.13\n",
       "0         Bermuda              2.48\n",
       "0          Norway              2.48\n",
       "0       Singapore              2.53\n",
       "0          Sweden              2.60\n",
       "0  Czech Republic              2.63\n",
       "0       Hong Kong              2.73\n",
       "0           Macao              3.13\n",
       "0         Iceland              3.15"
      ]
     },
     "execution_count": 13,
     "metadata": {},
     "output_type": "execute_result"
    }
   ],
   "source": [
    "df=pd.DataFrame(columns=['country','infant_mortality'])\n",
    "for element in document.iterfind('country'):\n",
    "    if element.find('infant_mortality') is not None:\n",
    "        df2=pd.DataFrame([[element.find('name').text,element.find('infant_mortality').text]],columns=['country','infant_mortality'])\n",
    "        df=df.append(df2)\n",
    "df['infant_mortality']=pd.to_numeric(df['infant_mortality'],errors='coerce')\n",
    "df.sort_values(by='infant_mortality').head(10)"
   ]
  },
  {
   "cell_type": "markdown",
   "metadata": {},
   "source": [
    "## Exercise 2. 10  cities with the largest population"
   ]
  },
  {
   "cell_type": "code",
   "execution_count": 19,
   "metadata": {
    "collapsed": false
   },
   "outputs": [
    {
     "data": {
      "text/html": [
       "<div>\n",
       "<table border=\"1\" class=\"dataframe\">\n",
       "  <thead>\n",
       "    <tr style=\"text-align: right;\">\n",
       "      <th></th>\n",
       "      <th>city</th>\n",
       "      <th>population</th>\n",
       "    </tr>\n",
       "  </thead>\n",
       "  <tbody>\n",
       "    <tr>\n",
       "      <th>0</th>\n",
       "      <td>Seoul</td>\n",
       "      <td>10229262</td>\n",
       "    </tr>\n",
       "    <tr>\n",
       "      <th>0</th>\n",
       "      <td>Mumbai</td>\n",
       "      <td>9925891</td>\n",
       "    </tr>\n",
       "    <tr>\n",
       "      <th>0</th>\n",
       "      <td>São Paulo</td>\n",
       "      <td>9412894</td>\n",
       "    </tr>\n",
       "    <tr>\n",
       "      <th>0</th>\n",
       "      <td>Jakarta</td>\n",
       "      <td>8259266</td>\n",
       "    </tr>\n",
       "    <tr>\n",
       "      <th>0</th>\n",
       "      <td>Shanghai</td>\n",
       "      <td>8205598</td>\n",
       "    </tr>\n",
       "    <tr>\n",
       "      <th>0</th>\n",
       "      <td>Ciudad de México</td>\n",
       "      <td>8092449</td>\n",
       "    </tr>\n",
       "    <tr>\n",
       "      <th>0</th>\n",
       "      <td>Moskva</td>\n",
       "      <td>8010954</td>\n",
       "    </tr>\n",
       "    <tr>\n",
       "      <th>0</th>\n",
       "      <td>Tokyo</td>\n",
       "      <td>7843000</td>\n",
       "    </tr>\n",
       "    <tr>\n",
       "      <th>0</th>\n",
       "      <td>Beijing</td>\n",
       "      <td>7362426</td>\n",
       "    </tr>\n",
       "    <tr>\n",
       "      <th>0</th>\n",
       "      <td>Delhi</td>\n",
       "      <td>7206704</td>\n",
       "    </tr>\n",
       "  </tbody>\n",
       "</table>\n",
       "</div>"
      ],
      "text/plain": [
       "               city  population\n",
       "0             Seoul    10229262\n",
       "0            Mumbai     9925891\n",
       "0         São Paulo     9412894\n",
       "0           Jakarta     8259266\n",
       "0          Shanghai     8205598\n",
       "0  Ciudad de México     8092449\n",
       "0            Moskva     8010954\n",
       "0             Tokyo     7843000\n",
       "0           Beijing     7362426\n",
       "0             Delhi     7206704"
      ]
     },
     "execution_count": 19,
     "metadata": {},
     "output_type": "execute_result"
    }
   ],
   "source": [
    "df_city=pd.DataFrame(columns=['city','population'])\n",
    "\n",
    "for element in document.iterfind('country'):\n",
    "    for subelement in element.getiterator('city'):\n",
    "        if subelement.find('population') is not None:\n",
    "            df_city2=pd.DataFrame([[subelement.find('name').text,subelement.find('population').text]],columns=['city','population'])\n",
    "            df_city=df_city.append(df_city2)\n",
    "df_city['population']=pd.to_numeric(df_city['population'],errors='coerce')\n",
    "df_city.sort_values(by='population',ascending=False).head(10)"
   ]
  },
  {
   "cell_type": "markdown",
   "metadata": {},
   "source": [
    "## Exercise 3. 10 ethnic groups with the largest population sum over all country"
   ]
  },
  {
   "cell_type": "code",
   "execution_count": 23,
   "metadata": {
    "collapsed": false
   },
   "outputs": [
    {
     "data": {
      "text/html": [
       "<div>\n",
       "<table border=\"1\" class=\"dataframe\">\n",
       "  <thead>\n",
       "    <tr style=\"text-align: right;\">\n",
       "      <th></th>\n",
       "      <th>percentage</th>\n",
       "      <th>population</th>\n",
       "      <th>population_per_ethnicity</th>\n",
       "    </tr>\n",
       "    <tr>\n",
       "      <th>ethnicgroup</th>\n",
       "      <th></th>\n",
       "      <th></th>\n",
       "      <th></th>\n",
       "    </tr>\n",
       "  </thead>\n",
       "  <tbody>\n",
       "    <tr>\n",
       "      <th>Han Chinese</th>\n",
       "      <td>91.50</td>\n",
       "      <td>543776080</td>\n",
       "      <td>4.975551e+08</td>\n",
       "    </tr>\n",
       "    <tr>\n",
       "      <th>European</th>\n",
       "      <td>970.82</td>\n",
       "      <td>362717873</td>\n",
       "      <td>1.928658e+08</td>\n",
       "    </tr>\n",
       "    <tr>\n",
       "      <th>Indo-Aryan</th>\n",
       "      <td>72.00</td>\n",
       "      <td>238396327</td>\n",
       "      <td>1.716454e+08</td>\n",
       "    </tr>\n",
       "    <tr>\n",
       "      <th>Russian</th>\n",
       "      <td>224.10</td>\n",
       "      <td>202263854</td>\n",
       "      <td>9.275844e+07</td>\n",
       "    </tr>\n",
       "    <tr>\n",
       "      <th>African</th>\n",
       "      <td>1868.55</td>\n",
       "      <td>357529690</td>\n",
       "      <td>8.632937e+07</td>\n",
       "    </tr>\n",
       "    <tr>\n",
       "      <th>Japanese</th>\n",
       "      <td>99.40</td>\n",
       "      <td>82199470</td>\n",
       "      <td>8.170627e+07</td>\n",
       "    </tr>\n",
       "    <tr>\n",
       "      <th>German</th>\n",
       "      <td>165.60</td>\n",
       "      <td>145710759</td>\n",
       "      <td>6.623219e+07</td>\n",
       "    </tr>\n",
       "    <tr>\n",
       "      <th>Dravidian</th>\n",
       "      <td>25.00</td>\n",
       "      <td>238396327</td>\n",
       "      <td>5.959908e+07</td>\n",
       "    </tr>\n",
       "    <tr>\n",
       "      <th>English</th>\n",
       "      <td>83.60</td>\n",
       "      <td>50616012</td>\n",
       "      <td>4.231499e+07</td>\n",
       "    </tr>\n",
       "    <tr>\n",
       "      <th>Mestizo</th>\n",
       "      <td>870.70</td>\n",
       "      <td>67185932</td>\n",
       "      <td>3.554233e+07</td>\n",
       "    </tr>\n",
       "  </tbody>\n",
       "</table>\n",
       "</div>"
      ],
      "text/plain": [
       "             percentage  population  population_per_ethnicity\n",
       "ethnicgroup                                                  \n",
       "Han Chinese       91.50   543776080              4.975551e+08\n",
       "European         970.82   362717873              1.928658e+08\n",
       "Indo-Aryan        72.00   238396327              1.716454e+08\n",
       "Russian          224.10   202263854              9.275844e+07\n",
       "African         1868.55   357529690              8.632937e+07\n",
       "Japanese          99.40    82199470              8.170627e+07\n",
       "German           165.60   145710759              6.623219e+07\n",
       "Dravidian         25.00   238396327              5.959908e+07\n",
       "English           83.60    50616012              4.231499e+07\n",
       "Mestizo          870.70    67185932              3.554233e+07"
      ]
     },
     "execution_count": 23,
     "metadata": {},
     "output_type": "execute_result"
    }
   ],
   "source": [
    "df_ethnic=pd.DataFrame(columns=['country,ethnicgroup','population','percentage'])\n",
    "for element in document.iterfind('country'): \n",
    "    for subelement in element.getiterator('ethnicgroup'):\n",
    "        country=element.find('name').text\n",
    "        ethnicgroup=subelement.text\n",
    "        population=element.find('population').text\n",
    "        percentage=subelement.attrib['percentage']\n",
    "        df_ethnic2=pd.DataFrame([[country,ethnicgroup,population,percentage]],columns=['country','ethnicgroup','population','percentage'])\n",
    "        df_ethnic=df_ethnic.append(df_ethnic2)\n",
    "\n",
    "df_ethnic['population']=pd.to_numeric(df_ethnic['population'],errors='coerce')\n",
    "df_ethnic['percentage']=pd.to_numeric(df_ethnic['percentage'],errors='coerce')\n",
    "df_ethnic['population_per_ethnicity']=df_ethnic['population']*df_ethnic['percentage']/100\n",
    "df_ethnic.groupby(['ethnicgroup']).sum().sort_values(by='population_per_ethnicity',ascending=False).head(10)"
   ]
  },
  {
   "cell_type": "markdown",
   "metadata": {},
   "source": [
    "### Exercices 4: name and country of a) longest river, b) largest lake and c) airport at highest elevation"
   ]
  },
  {
   "cell_type": "code",
   "execution_count": 27,
   "metadata": {
    "collapsed": false
   },
   "outputs": [
    {
     "name": "stdout",
     "output_type": "stream",
     "text": [
      "Longest river:river-Amazonas in CO BR PE\n"
     ]
    }
   ],
   "source": [
    "#a name and country of longest river\n",
    "country_l_river=None\n",
    "name_l_river=None\n",
    "length_l_river=None\n",
    "for node in document.iterfind('river'):\n",
    "    if node.find('length')is not None:\n",
    "        if length_l_river < float(node.find('length').text):\n",
    "            length_l_river=float(node.find('length').text)\n",
    "            country_l_river=node.attrib['country'] \n",
    "            name_l_river=node.attrib['id']\n",
    "            \n",
    "print('Longest river: ' +name_l_river+' in '+country_l_river)\n",
    "              "
   ]
  },
  {
   "cell_type": "code",
   "execution_count": 29,
   "metadata": {
    "collapsed": false
   },
   "outputs": [
    {
     "name": "stdout",
     "output_type": "stream",
     "text": [
      "Largest lake: lake-KaspischesMeerinR AZ KAZ IR TM\n"
     ]
    }
   ],
   "source": [
    "#b name and country of b) largest lake\n",
    "country_l_lake=None\n",
    "name_l_lake=None\n",
    "area_l_lake=None\n",
    "for node in document.iterfind('lake'):\n",
    "    if node.find('area') is not None:\n",
    "        if area_l_lake<float(node.find('area').text):\n",
    "            area_l_lake=float(node.find('area').text)\n",
    "            country_l_lake=node.attrib['country']\n",
    "            name_l_lake=node.attrib['id']\n",
    "print('Largest lake: '+name_l_lake+ 'in' +country_l_lake )"
   ]
  },
  {
   "cell_type": "code",
   "execution_count": null,
   "metadata": {
    "collapsed": true
   },
   "outputs": [],
   "source": [
    "#c airport at Highest elevation"
   ]
  },
  {
   "cell_type": "code",
   "execution_count": 35,
   "metadata": {
    "collapsed": false
   },
   "outputs": [
    {
     "name": "stdout",
     "output_type": "stream",
     "text": [
      "Highest airport: El Alto IntlinBOL\n"
     ]
    }
   ],
   "source": [
    "elevation_h_airport=None\n",
    "name_h_airport=None\n",
    "country_h_airport=None\n",
    "for node in document.iterfind('airport'):\n",
    "    if node.find('elevation').text is not None:\n",
    "        if elevation_h_airport < float(node.find('elevation').text):\n",
    "            elevation_h_airport=float(node.find('elevation').text)\n",
    "            country_h_airport=node.attrib['country']\n",
    "            name_h_airport=node.find('name').text\n",
    "print('Highest airport: ' +name_h_airport+'in'+ country_h_airport)\n"
   ]
  },
  {
   "cell_type": "code",
   "execution_count": null,
   "metadata": {
    "collapsed": true
   },
   "outputs": [],
   "source": []
  }
 ],
 "metadata": {
  "kernelspec": {
   "display_name": "Python 2",
   "language": "python",
   "name": "python2"
  },
  "language_info": {
   "codemirror_mode": {
    "name": "ipython",
    "version": 2
   },
   "file_extension": ".py",
   "mimetype": "text/x-python",
   "name": "python",
   "nbconvert_exporter": "python",
   "pygments_lexer": "ipython2",
   "version": "2.7.11"
  }
 },
 "nbformat": 4,
 "nbformat_minor": 0
}
